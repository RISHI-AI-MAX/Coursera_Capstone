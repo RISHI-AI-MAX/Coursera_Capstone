{
  "nbformat": 4,
  "nbformat_minor": 0,
  "metadata": {
    "colab": {
      "name": "Untitled",
      "provenance": [],
      "collapsed_sections": []
    },
    "kernelspec": {
      "name": "python3",
      "display_name": "Python 3"
    }
  },
  "cells": [
    {
      "cell_type": "markdown",
      "metadata": {
        "id": "vf2ZZK_ic5tO"
      },
      "source": [
        "# __WELCOME TO DATA SCIENCE CAPSTONE PROJECT : 2020__ \r\n",
        "\r\n",
        "1.   About : This notebook is the introduction which is the  \r\n",
        "beginning of the Capstone Project .\r\n",
        "\r\n",
        "2.  Course Name : Applied Data Science Capstone .\r\n",
        "\r\n",
        "3. Instructor : _SiR ALEX AKLSON_ Senior Data Scientist (IBM)\r\n",
        "\r\n"
      ]
    },
    {
      "cell_type": "markdown",
      "metadata": {
        "id": "WSmiocOXe2R1"
      },
      "source": [
        "#### Basics of Markdown :"
      ]
    },
    {
      "cell_type": "markdown",
      "metadata": {
        "id": "DVfKHSJvfQVO"
      },
      "source": [
        "##### For Different size Headings :\r\n",
        "\r\n",
        "# Heading Level 1 - by using 1 # symbol\r\n",
        "\r\n",
        "## Heading Level 2 - by using 2 # symbol\r\n",
        "\r\n",
        "### Heading Level 3 - by using 3 # symbol\r\n",
        "\r\n",
        "#### Heading Level 4 - by using 4 # symbol\r\n",
        "\r\n",
        "##### Heading Level 5 - by using 5 # symbol\r\n",
        "\r\n",
        "###### Heading Level 6 - by using 6 # symbol"
      ]
    },
    {
      "cell_type": "markdown",
      "metadata": {
        "id": "bVsbaxabgfEt"
      },
      "source": [
        "#### For Bold Text : We put the string in double underscore \r\n",
        "\r\n",
        "__This is the statement in BOLD__"
      ]
    },
    {
      "cell_type": "markdown",
      "metadata": {
        "id": "x5uKfgnRhItj"
      },
      "source": [
        "#### For Italics text : We put the string in single underscore .\r\n",
        "\r\n",
        "#### _This is the string in ITALiCS_"
      ]
    },
    {
      "cell_type": "code",
      "metadata": {
        "id": "YxbZTN6rhXoG"
      },
      "source": [
        "import numpy as np\r\n"
      ],
      "execution_count": 6,
      "outputs": []
    },
    {
      "cell_type": "markdown",
      "metadata": {
        "id": "aQ8KYwrFhgWJ"
      },
      "source": [
        ""
      ]
    },
    {
      "cell_type": "code",
      "metadata": {
        "id": "gwmHwU-DjBHJ"
      },
      "source": [
        "import pandas as pd"
      ],
      "execution_count": 8,
      "outputs": []
    },
    {
      "cell_type": "markdown",
      "metadata": {
        "id": "kM5_NL7gjIFj"
      },
      "source": [
        "## __HELLO CAPSTONE PROJECT COURSE__"
      ]
    }
  ]
}